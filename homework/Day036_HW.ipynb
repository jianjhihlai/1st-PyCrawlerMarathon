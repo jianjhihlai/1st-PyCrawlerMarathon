{
 "cells": [
  {
   "cell_type": "markdown",
   "metadata": {},
   "source": [
    "# 加速：非同步爬蟲\n",
    "\n",
    "* 了解非同步爬蟲加速原理與實作"
   ]
  },
  {
   "cell_type": "markdown",
   "metadata": {},
   "source": [
    "## 作業目標\n",
    "\n",
    "* 比較一下非同步爬蟲跟多線程爬蟲的差異是什麼？各自的優缺點為何？"
   ]
  },
  {
   "cell_type": "code",
   "execution_count": 1,
   "metadata": {
    "scrolled": true
   },
   "outputs": [
    {
     "data": {
      "text/plain": [
       "'\\n1. 非同步和多線程的差異應該就在於非同步是單執行序的，它在同一個線程切換各個任務。\\n2. 多線程的優點看介紹，用法比較容易，非同步感覺等來等去的，代碼有點難理解\\n3. 不過非同步看介紹反而會比多線程快一點，而且實作上非同步可以返回結果，作Day035的作業時，想不到怎麼把多線程的結果在最後收集起來，只能存在一個外部檔案。\\n'"
      ]
     },
     "execution_count": 1,
     "metadata": {},
     "output_type": "execute_result"
    }
   ],
   "source": [
    "'''\n",
    "1. 非同步和多線程的差異應該就在於非同步是單執行序的，它在同一個線程切換各個任務。\n",
    "2. 多線程的優點看介紹，用法比較容易，非同步感覺等來等去的，代碼有點難理解\n",
    "3. 不過非同步看介紹反而會比多線程快一點，而且實作上非同步可以返回結果，作Day035的作業時，想不到怎麼把多線程的結果在最後收集起來，只能存在一個外部檔案。\n",
    "'''"
   ]
  },
  {
   "cell_type": "code",
   "execution_count": null,
   "metadata": {},
   "outputs": [],
   "source": []
  }
 ],
 "metadata": {
  "colab": {
   "name": "homework.ipynb",
   "provenance": []
  },
  "kernelspec": {
   "display_name": "Python 3",
   "language": "python",
   "name": "python3"
  },
  "language_info": {
   "codemirror_mode": {
    "name": "ipython",
    "version": 3
   },
   "file_extension": ".py",
   "mimetype": "text/x-python",
   "name": "python",
   "nbconvert_exporter": "python",
   "pygments_lexer": "ipython3",
   "version": "3.6.6"
  }
 },
 "nbformat": 4,
 "nbformat_minor": 1
}
